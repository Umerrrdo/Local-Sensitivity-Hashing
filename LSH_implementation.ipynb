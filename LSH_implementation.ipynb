{
  "nbformat": 4,
  "nbformat_minor": 0,
  "metadata": {
    "colab": {
      "provenance": []
    },
    "kernelspec": {
      "name": "python3",
      "display_name": "Python 3"
    },
    "language_info": {
      "name": "python"
    }
  },
  "cells": [
    {
      "cell_type": "markdown",
      "source": [
        "#**Task 1: Create Shingles**\n",
        "\n",
        "**Task 1.1: Write Shingles function**"
      ],
      "metadata": {
        "id": "6grXclp86Jki"
      }
    },
    {
      "cell_type": "code",
      "execution_count": null,
      "metadata": {
        "id": "MdVU7IJv7xcs"
      },
      "outputs": [],
      "source": [
        "def shingle(text, k):\n",
        "    # Check if the input k is valid\n",
        "    if k <= 0 or not isinstance(k, int):\n",
        "        raise ValueError(\"k should be a positive integer\")\n",
        "\n",
        "    # Remove punctuation and convert to lowercase\n",
        "    text = text.lower().replace(' ', '')  # Removing spaces for simplicity\n",
        "\n",
        "    # Generate k-shingles\n",
        "    shingles = set()\n",
        "    for i in range(len(text) - k + 1):\n",
        "        shingle = text[i:i + k]\n",
        "        shingles.add(shingle)\n",
        "\n",
        "    return set(shingles)"
      ]
    },
    {
      "cell_type": "code",
      "source": [
        "sentence_a = \"flying fish flew by the space station\"\n",
        "sentence_b = \"he will not allow you to bring your sticks of dynamite and pet armadillo along\"\n",
        "sentence_c = \"he figured a few sticks of dynamite youre easier than a fishing pole to catch an armadillo\""
      ],
      "metadata": {
        "id": "8vEKE2AG5XRl"
      },
      "execution_count": null,
      "outputs": []
    },
    {
      "cell_type": "code",
      "source": [
        "iter = [2,3,4,6]\n",
        "for k in iter:\n",
        "  print(f\"Shingles for first sentence with k value = {k} is: \")\n",
        "  print(shingle(sentence_a,k))\n",
        "  print(f\"Shingles for second sentence with k value = {k} is: \")\n",
        "  print(shingle(sentence_b,k))\n",
        "  print(f\"Shingles for third sentence with k value = {k} is: \")\n",
        "  print(shingle(sentence_c,k))\n",
        "  print()"
      ],
      "metadata": {
        "colab": {
          "base_uri": "https://localhost:8080/"
        },
        "id": "9sVe7Ibg6HZz",
        "outputId": "a60a0a30-fa04-4de5-94bf-3e4b02b0dbbb"
      },
      "execution_count": null,
      "outputs": [
        {
          "output_type": "stream",
          "name": "stdout",
          "text": [
            "Shingles for first sentence with k value = 2 is: \n",
            "{'hf', 'th', 'ng', 'pa', 'fi', 'yi', 'at', 'wb', 'sp', 'ti', 'ta', 'ly', 'he', 'io', 'le', 'yt', 'sh', 'by', 'in', 'is', 'gf', 'ew', 'on', 'es', 'st', 'ce', 'ac', 'fl'}\n",
            "Shingles for second sentence with k value = 2 is: \n",
            "{'et', 'to', 'pe', 'rs', 'ob', 'ur', 'ti', 'na', 'ln', 'yn', 'ea', 'wi', 'he', 'ot', 'so', 'of', 'lo', 'it', 'ew', 'on', 'st', 'gy', 'al', 'll', 'br', 'rm', 'ma', 'ri', 'ng', 'no', 'ow', 'ta', 'wy', 'an', 'ad', 'am', 'dy', 'nd', 'ck', 'il', 'mi', 'ou', 'di', 'in', 'ic', 'ut', 'ks', 'yo', 'fd', 'dp', 'ar', 'oa', 'te'}\n",
            "Shingles for third sentence with k value = 2 is: \n",
            "{'to', 'po', 'ee', 'rt', 'af', 'tc', 're', 'so', 'sh', 'lo', 'as', 'ew', 'ie', 'at', 'ca', 'an', 'ad', 'am', 'mi', 'di', 'in', 'ar', 'si', 'ha', 'te', 'er', 'ol', 'et', 'ed', 'fi', 'ur', 'ti', 'na', 'ey', 'yn', 'ea', 'oc', 'he', 'ef', 'of', 'it', 'is', 'st', 'fe', 'll', 'rm', 'ch', 'ma', 'gu', 'th', 'ng', 'gp', 'dy', 'ck', 'le', 'il', 'hi', 'ou', 'da', 'ic', 'ks', 'fd', 'yo', 'ws', 'ig'}\n",
            "\n",
            "Shingles for first sentence with k value = 3 is: \n",
            "{'fly', 'shf', 'sta', 'ace', 'yin', 'ces', 'byt', 'hes', 'esp', 'pac', 'ish', 'ing', 'ngf', 'fle', 'lyi', 'hfl', 'gfi', 'wby', 'tio', 'spa', 'ewb', 'yth', 'tat', 'est', 'the', 'lew', 'ati', 'fis', 'ion'}\n",
            "Shingles for second sentence with k value = 3 is: \n",
            "{'llo', 'ewi', 'tea', 'tob', 'pet', 'eta', 'urs', 'oal', 'wil', 'ota', 'lno', 'wyo', 'low', 'ill', 'out', 'ing', 'rst', 'tar', 'mad', 'alo', 'all', 'mit', 'our', 'and', 'gyo', 'cks', 'sof', 'ofd', 'tic', 'rin', 'kso', 'yna', 'ndp', 'ite', 'fdy', 'adi', 'ami', 'dpe', 'loa', 'not', 'ngy', 'dyn', 'nam', 'arm', 'bri', 'lon', 'rma', 'obr', 'dil', 'lln', 'uto', 'you', 'hew', 'sti', 'tal', 'owy', 'ick', 'ong', 'ean'}\n",
            "Shingles for third sentence with k value = 3 is: \n",
            "{'let', 'cha', 'llo', 'eyo', 'ier', 'tha', 'rth', 'eda', 'gpo', 'ill', 'ngp', 'toc', 'red', 'nar', 'naf', 'yna', 'eea', 'wst', 'ami', 'ick', 'eto', 'gur', 'oca', 'dyn', 'nam', 'asi', 'rma', 'afi', 'afe', 'eas', 'ree', 'fig', 'hef', 'ish', 'ing', 'pol', 'mad', 'sti', 'mit', 'our', 'cks', 'tey', 'shi', 'sof', 'fis', 'ana', 'ofd', 'atc', 'few', 'tic', 'kso', 'ite', 'fdy', 'adi', 'ews', 'cat', 'ure', 'efi', 'ole', 'arm', 'hin', 'tch', 'sie', 'dil', 'you', 'daf', 'han', 'igu', 'ert'}\n",
            "\n",
            "Shingles for first sentence with k value = 4 is: \n",
            "{'byth', 'spac', 'gfis', 'ewby', 'ngfi', 'ishf', 'lewb', 'tati', 'ingf', 'esta', 'thes', 'pace', 'stat', 'tion', 'espa', 'fish', 'flyi', 'ythe', 'hfle', 'lyin', 'shfl', 'ying', 'cest', 'hesp', 'flew', 'atio', 'aces', 'wbyt'}\n",
            "Shingles for second sentence with k value = 4 is: \n",
            "{'arma', 'urst', 'oalo', 'fdyn', 'tarm', 'ingy', 'ckso', 'yout', 'ofdy', 'loal', 'icks', 'illo', 'rsti', 'ours', 'itea', 'allo', 'alon', 'tean', 'gyou', 'lnot', 'ngyo', 'llno', 'your', 'ring', 'stic', 'eand', 'madi', 'tall', 'obri', 'hewi', 'llow', 'tobr', 'nami', 'outo', 'amit', 'andp', 'ynam', 'wyou', 'dpet', 'adil', 'tick', 'long', 'ksof', 'sofd', 'ewil', 'mite', 'peta', 'utob', 'etar', 'nota', 'lloa', 'rmad', 'brin', 'ndpe', 'dill', 'illn', 'dyna', 'owyo', 'lowy', 'otal', 'will'}\n",
            "Shingles for third sentence with k value = 4 is: \n",
            "{'eyou', 'erth', 'ofdy', 'ishi', 'igur', 'leto', 'icks', 'illo', 'shin', 'hefi', 'gure', 'dafe', 'teyo', 'sier', 'amit', 'figu', 'etoc', 'narm', 'ngpo', 'hing', 'tick', 'fish', 'ksof', 'wsti', 'sofd', 'mite', 'reea', 'ured', 'dill', 'dyna', 'hana', 'olet', 'adil', 'arma', 'fdyn', 'than', 'itey', 'ckso', 'afew', 'nafi', 'tcha', 'eeas', 'fews', 'ingp', 'stic', 'uree', 'ewst', 'your', 'madi', 'toca', 'asie', 'oure', 'afis', 'nami', 'reda', 'anaf', 'edaf', 'gpol', 'ocat', 'ynam', 'catc', 'rtha', 'chan', 'anar', 'iert', 'efig', 'rmad', 'easi', 'pole', 'atch'}\n",
            "\n",
            "Shingles for first sentence with k value = 6 is: \n",
            "{'ythesp', 'flying', 'ewbyth', 'acesta', 'estati', 'tation', 'hflewb', 'ngfish', 'flewby', 'bythes', 'cestat', 'espace', 'fishfl', 'lewbyt', 'gfishf', 'ishfle', 'yingfi', 'spaces', 'hespac', 'wbythe', 'ingfis', 'statio', 'lyingf', 'shflew', 'pacest', 'thespa'}\n",
            "Shingles for second sentence with k value = 6 is: \n",
            "{'urstic', 'fdynam', 'eandpe', 'willno', 'lnotal', 'ewilln', 'ndpeta', 'youtob', 'tickso', 'amitea', 'dynami', 'sofdyn', 'rstick', 'ingyou', 'ynamit', 'lloalo', 'petarm', 'tarmad', 'icksof', 'lowyou', 'llowyo', 'dpetar', 'madill', 'adillo', 'oalong', 'llnota', 'allowy', 'bringy', 'outobr', 'utobri', 'namite', 'notall', 'owyout', 'gyours', 'andpet', 'ofdyna', 'armadi', 'mitean', 'iteand', 'dilloa', 'ringyo', 'tallow', 'oursti', 'cksofd', 'otallo', 'tobrin', 'obring', 'wyouto', 'etarma', 'teandp', 'loalon', 'ksofdy', 'rmadil', 'illoal', 'illnot', 'ngyour', 'hewill', 'yourst', 'sticks'}\n",
            "Shingles for third sentence with k value = 6 is: \n",
            "{'iertha', 'atchan', 'anarma', 'dynami', 'rthana', 'oureea', 'afewst', 'ynamit', 'poleto', 'uredaf', 'thanaf', 'erthan', 'redafe', 'ngpole', 'teyour', 'madill', 'adillo', 'ewstic', 'hingpo', 'namite', 'edafew', 'reeasi', 'wstick', 'gureda', 'fishin', 'etocat', 'armadi', 'gpolet', 'afishi', 'hanafi', 'cksofd', 'hefigu', 'nafish', 'ureeas', 'youree', 'easier', 'catcha', 'ingpol', 'rmadil', 'sticks', 'hanarm', 'fdynam', 'ocatch', 'tchana', 'tickso', 'narmad', 'shingp', 'tocatc', 'eeasie', 'iteyou', 'sofdyn', 'igured', 'miteyo', 'icksof', 'ishing', 'chanar', 'oletoc', 'ofdyna', 'eyoure', 'dafews', 'efigur', 'asiert', 'letoca', 'sierth', 'amitey', 'anafis', 'ksofdy', 'figure', 'fewsti'}\n",
            "\n"
          ]
        }
      ]
    },
    {
      "cell_type": "markdown",
      "source": [
        "**Task 1.3: Making Vocabulary with k = 2 shingles**  "
      ],
      "metadata": {
        "id": "jB6YewxH9fFL"
      }
    },
    {
      "cell_type": "code",
      "source": [
        "k=2\n",
        "shingleA = shingle(sentence_a,k)\n",
        "shingleB = shingle(sentence_b,k)\n",
        "shingleC = shingle(sentence_c,k)\n",
        "\n",
        "vocab = list(shingleA.union(shingleB).union(shingleC))\n",
        "print(vocab)"
      ],
      "metadata": {
        "colab": {
          "base_uri": "https://localhost:8080/"
        },
        "id": "uRDW_OwV9dk-",
        "outputId": "a3fd0ebb-fa5e-4c15-bc12-f5e79e8f8072"
      },
      "execution_count": null,
      "outputs": [
        {
          "output_type": "stream",
          "name": "stdout",
          "text": [
            "['hf', 'to', 'pe', 'rs', 'wb', 'po', 'ob', 'ln', 'ee', 'rt', 'ly', 'wi', 'af', 'io', 'tc', 're', 'so', 'sh', 'lo', 'as', 'ew', 'gy', 'ce', 'ie', 'at', 'yi', 'ca', 'ow', 'sp', 'ta', 'wy', 'an', 'ad', 'am', 'ig', 'yt', 'mi', 'di', 'by', 'in', 'dp', 'ar', 'gf', 'es', 'si', 'ha', 'te', 'er', 'et', 'ol', 'ed', 'fi', 'ti', 'ur', 'na', 'ey', 'yn', 'ea', 'oc', 'he', 'ot', 'of', 'ef', 'it', 'is', 'on', 'st', 'al', 'fe', 'll', 'br', 'fl', 'rm', 'ch', 'ma', 'th', 'ri', 'ng', 'pa', 'gu', 'no', 'gp', 'dy', 'nd', 'ck', 'le', 'il', 'hi', 'ou', 'da', 'ic', 'ut', 'ks', 'yo', 'fd', 'oa', 'ws', 'ac']\n"
          ]
        }
      ]
    },
    {
      "cell_type": "markdown",
      "source": [],
      "metadata": {
        "id": "6_8TeQZp_N1J"
      }
    },
    {
      "cell_type": "markdown",
      "source": [
        "#**Task 2: Creating Sparse Vector**\n",
        "\n",
        "**Task 2.1: Print vocabulary and also do one-hot encoding of shingles set**"
      ],
      "metadata": {
        "id": "HgKjyfvH_SA7"
      }
    },
    {
      "cell_type": "code",
      "source": [
        "for x in vocab:\n",
        "    a_1hot = [1 if x in shingleA else 0 for x in vocab]\n",
        "    b_1hot = [1 if x in shingleB else 0 for x in vocab]\n",
        "    c_1hot = [1 if x in shingleC else 0 for x in vocab]\n",
        "\n",
        "print(a_1hot)\n"
      ],
      "metadata": {
        "colab": {
          "base_uri": "https://localhost:8080/"
        },
        "id": "xqQX9C7P_kc8",
        "outputId": "d0af4b49-56da-4671-a9f8-52bfa52f188d"
      },
      "execution_count": null,
      "outputs": [
        {
          "output_type": "stream",
          "name": "stdout",
          "text": [
            "[1, 0, 0, 0, 1, 0, 0, 0, 0, 0, 1, 0, 0, 1, 0, 0, 0, 1, 0, 0, 1, 0, 1, 0, 1, 1, 0, 0, 1, 1, 0, 0, 0, 0, 0, 1, 0, 0, 1, 1, 0, 0, 1, 1, 0, 0, 0, 0, 0, 0, 0, 1, 1, 0, 0, 0, 0, 0, 0, 1, 0, 0, 0, 0, 1, 1, 1, 0, 0, 0, 0, 1, 0, 0, 0, 1, 0, 1, 1, 0, 0, 0, 0, 0, 0, 1, 0, 0, 0, 0, 0, 0, 0, 0, 0, 0, 0, 1]\n"
          ]
        }
      ]
    },
    {
      "cell_type": "markdown",
      "source": [
        "#**Task 3: Using Minhash to reduce the Sparse Vector and Making Hashes**\n",
        "\n",
        "**Task 3.1: Creating Hashes**"
      ],
      "metadata": {
        "id": "kEXmBb00BjGv"
      }
    },
    {
      "cell_type": "code",
      "source": [
        "from random import shuffle\n",
        "\n",
        "def createHashFunc(v):\n",
        "  hashIndex = list(range(1,len(v)+1))\n",
        "  shuffle(hashIndex)\n",
        "  return hashIndex\n",
        "\n",
        "def createMultipleHashes(v, copies):\n",
        "  hash = []\n",
        "  for k in range(copies):\n",
        "    hash.append(createHashFunc(v))\n",
        "  return hash"
      ],
      "metadata": {
        "id": "o5umVu-9BzdA"
      },
      "execution_count": null,
      "outputs": []
    },
    {
      "cell_type": "code",
      "source": [
        "minhashFuncs = createMultipleHashes(vocab,20)\n",
        "for i in range(20):\n",
        "  print(minhashFuncs[i])\n"
      ],
      "metadata": {
        "colab": {
          "base_uri": "https://localhost:8080/"
        },
        "id": "d9jj9W3_jr9g",
        "outputId": "00524d37-330d-44a9-94b6-6a2605d50b0b"
      },
      "execution_count": null,
      "outputs": [
        {
          "output_type": "stream",
          "name": "stdout",
          "text": [
            "[64, 92, 5, 53, 9, 42, 6, 79, 36, 61, 70, 7, 65, 22, 18, 63, 43, 82, 50, 15, 69, 29, 28, 71, 75, 44, 60, 80, 23, 41, 73, 4, 14, 33, 78, 76, 10, 34, 8, 40, 98, 30, 93, 74, 16, 95, 1, 77, 21, 3, 68, 87, 31, 26, 84, 27, 46, 89, 35, 17, 86, 32, 20, 94, 54, 38, 11, 88, 67, 48, 90, 51, 12, 45, 96, 57, 19, 56, 49, 25, 2, 66, 47, 52, 24, 59, 62, 97, 85, 91, 55, 58, 39, 72, 83, 13, 37, 81]\n",
            "[95, 56, 54, 7, 24, 89, 25, 44, 16, 50, 96, 77, 23, 79, 51, 84, 32, 8, 31, 60, 70, 80, 5, 39, 42, 48, 73, 92, 75, 85, 76, 88, 29, 9, 49, 2, 47, 59, 58, 13, 33, 21, 97, 61, 38, 55, 19, 40, 45, 94, 87, 66, 69, 93, 65, 27, 41, 86, 26, 71, 18, 10, 1, 64, 98, 34, 11, 52, 46, 63, 62, 81, 36, 91, 17, 82, 68, 6, 67, 35, 53, 15, 74, 83, 78, 72, 12, 28, 14, 30, 4, 20, 22, 37, 57, 43, 3, 90]\n",
            "[18, 48, 25, 95, 19, 39, 75, 82, 20, 54, 92, 23, 61, 4, 26, 97, 76, 14, 38, 6, 60, 37, 34, 70, 32, 69, 24, 3, 53, 52, 22, 73, 33, 41, 7, 81, 80, 89, 31, 9, 79, 72, 1, 10, 28, 66, 91, 63, 78, 12, 71, 43, 44, 85, 84, 93, 2, 30, 50, 57, 27, 88, 55, 29, 74, 46, 90, 64, 98, 16, 45, 77, 51, 5, 83, 94, 58, 59, 36, 40, 65, 17, 87, 62, 68, 13, 21, 67, 47, 11, 49, 15, 86, 56, 35, 8, 42, 96]\n",
            "[72, 21, 93, 17, 23, 71, 53, 31, 66, 86, 81, 44, 4, 8, 95, 84, 25, 64, 1, 16, 94, 43, 78, 33, 38, 36, 22, 11, 41, 45, 18, 51, 7, 79, 91, 29, 73, 49, 52, 88, 32, 40, 63, 61, 77, 96, 20, 27, 19, 55, 82, 13, 98, 15, 50, 26, 28, 12, 47, 24, 69, 34, 92, 56, 76, 89, 68, 42, 54, 70, 5, 2, 58, 39, 74, 75, 10, 65, 85, 3, 83, 97, 57, 67, 46, 30, 6, 59, 87, 62, 60, 80, 9, 37, 35, 14, 90, 48]\n",
            "[97, 64, 5, 16, 9, 73, 10, 37, 28, 43, 76, 22, 93, 21, 44, 95, 33, 39, 30, 13, 52, 59, 47, 32, 50, 51, 34, 7, 74, 83, 14, 89, 85, 36, 29, 48, 71, 46, 1, 40, 8, 63, 42, 58, 96, 11, 55, 56, 23, 88, 12, 49, 60, 45, 38, 80, 53, 61, 25, 19, 31, 4, 78, 75, 66, 90, 27, 77, 24, 18, 26, 17, 92, 82, 41, 2, 70, 68, 65, 57, 81, 87, 3, 62, 35, 94, 72, 91, 15, 79, 20, 86, 54, 84, 98, 67, 6, 69]\n",
            "[91, 93, 3, 51, 31, 80, 10, 4, 57, 66, 69, 84, 14, 18, 9, 32, 67, 64, 58, 78, 11, 61, 19, 1, 39, 34, 27, 21, 77, 94, 65, 2, 83, 76, 74, 92, 20, 22, 90, 33, 95, 44, 40, 55, 45, 46, 42, 17, 62, 97, 16, 30, 6, 38, 81, 50, 72, 88, 48, 24, 70, 59, 7, 85, 89, 82, 73, 47, 86, 75, 54, 15, 25, 29, 60, 28, 96, 43, 5, 13, 35, 23, 26, 68, 56, 8, 87, 49, 98, 79, 53, 63, 37, 52, 36, 41, 71, 12]\n",
            "[30, 75, 47, 17, 22, 33, 5, 14, 85, 42, 15, 26, 80, 62, 43, 98, 45, 89, 87, 32, 86, 68, 38, 92, 73, 4, 90, 39, 18, 20, 84, 9, 7, 60, 56, 35, 97, 55, 58, 74, 91, 82, 61, 24, 12, 10, 25, 76, 63, 44, 83, 49, 46, 41, 66, 57, 50, 64, 31, 53, 28, 13, 29, 48, 34, 23, 67, 69, 72, 70, 81, 96, 19, 27, 94, 11, 51, 52, 95, 59, 65, 88, 79, 54, 71, 36, 3, 16, 93, 21, 77, 37, 78, 1, 40, 6, 8, 2]\n",
            "[77, 97, 2, 53, 6, 13, 58, 8, 47, 82, 27, 20, 63, 17, 5, 44, 79, 89, 9, 18, 92, 37, 73, 81, 76, 7, 4, 24, 30, 83, 38, 29, 34, 42, 93, 75, 56, 33, 71, 15, 69, 94, 54, 48, 74, 91, 19, 26, 1, 85, 80, 21, 28, 98, 35, 41, 66, 49, 95, 32, 16, 59, 90, 62, 87, 96, 45, 67, 39, 55, 23, 51, 86, 64, 11, 50, 22, 25, 40, 31, 10, 36, 3, 70, 60, 57, 68, 65, 46, 78, 12, 43, 88, 61, 84, 14, 72, 52]\n",
            "[60, 73, 21, 42, 72, 33, 3, 32, 82, 87, 19, 36, 46, 9, 57, 89, 84, 23, 98, 59, 91, 38, 70, 34, 48, 56, 22, 96, 80, 81, 27, 94, 29, 45, 61, 5, 2, 30, 64, 88, 11, 97, 15, 62, 54, 16, 43, 49, 53, 79, 12, 74, 8, 66, 58, 67, 51, 50, 17, 86, 6, 28, 77, 20, 26, 71, 35, 40, 95, 76, 83, 44, 47, 7, 24, 13, 78, 31, 41, 39, 52, 65, 1, 69, 85, 4, 75, 25, 55, 68, 90, 10, 63, 93, 37, 18, 92, 14]\n",
            "[21, 70, 37, 26, 71, 1, 28, 24, 48, 43, 80, 94, 64, 47, 41, 46, 53, 11, 29, 55, 69, 15, 81, 63, 45, 3, 30, 25, 34, 19, 5, 22, 57, 72, 88, 65, 40, 17, 84, 91, 97, 74, 36, 18, 87, 8, 6, 9, 89, 27, 85, 67, 32, 7, 59, 49, 60, 77, 14, 2, 73, 75, 38, 95, 10, 82, 79, 86, 62, 56, 23, 92, 83, 35, 51, 58, 12, 52, 50, 31, 98, 42, 33, 76, 93, 4, 54, 78, 90, 68, 16, 44, 66, 96, 20, 61, 13, 39]\n",
            "[34, 31, 39, 70, 25, 32, 54, 44, 18, 29, 37, 84, 33, 86, 97, 94, 90, 5, 6, 73, 66, 19, 62, 83, 67, 57, 11, 1, 23, 22, 53, 13, 79, 36, 91, 10, 93, 60, 59, 17, 81, 47, 61, 96, 98, 20, 41, 45, 42, 85, 7, 48, 43, 56, 65, 14, 80, 68, 15, 71, 30, 12, 75, 89, 63, 21, 26, 82, 3, 4, 28, 40, 64, 55, 77, 49, 16, 51, 95, 8, 50, 87, 24, 72, 78, 74, 76, 69, 35, 38, 2, 52, 58, 9, 92, 27, 88, 46]\n",
            "[32, 2, 22, 9, 96, 42, 24, 98, 51, 43, 56, 11, 48, 57, 3, 93, 49, 85, 65, 40, 7, 35, 23, 69, 61, 64, 29, 16, 28, 74, 76, 4, 37, 12, 73, 54, 80, 83, 17, 34, 78, 14, 20, 33, 1, 95, 47, 89, 92, 77, 6, 46, 68, 13, 81, 62, 10, 58, 26, 70, 5, 72, 60, 75, 66, 41, 8, 97, 21, 38, 39, 31, 86, 18, 59, 67, 15, 87, 90, 36, 91, 52, 25, 45, 50, 27, 88, 94, 63, 82, 19, 84, 71, 30, 79, 44, 55, 53]\n",
            "[89, 87, 35, 84, 96, 24, 38, 64, 77, 83, 20, 79, 94, 67, 78, 52, 54, 6, 88, 27, 50, 21, 69, 42, 60, 1, 13, 59, 71, 2, 51, 37, 4, 3, 56, 53, 65, 58, 9, 82, 95, 73, 62, 12, 10, 93, 75, 81, 14, 19, 68, 16, 74, 98, 66, 46, 17, 28, 31, 33, 72, 39, 32, 63, 57, 40, 5, 97, 30, 92, 7, 41, 22, 11, 8, 45, 61, 25, 23, 76, 26, 49, 34, 47, 55, 43, 44, 15, 18, 48, 90, 36, 86, 80, 91, 29, 85, 70]\n",
            "[24, 66, 13, 71, 87, 81, 35, 3, 46, 16, 78, 41, 2, 67, 32, 59, 45, 21, 18, 37, 93, 96, 90, 14, 65, 27, 75, 89, 44, 58, 53, 43, 73, 15, 60, 40, 34, 55, 48, 63, 26, 72, 79, 57, 11, 1, 7, 86, 38, 61, 82, 49, 80, 85, 50, 64, 23, 76, 88, 4, 56, 31, 29, 28, 36, 22, 8, 62, 33, 84, 68, 69, 74, 12, 52, 97, 77, 30, 25, 19, 54, 83, 20, 5, 94, 70, 51, 17, 42, 95, 9, 47, 98, 10, 6, 92, 91, 39]\n",
            "[21, 11, 78, 34, 43, 44, 55, 62, 86, 2, 69, 35, 96, 13, 49, 68, 61, 31, 18, 92, 5, 87, 39, 97, 93, 46, 74, 42, 20, 24, 84, 81, 58, 3, 27, 72, 82, 77, 14, 19, 22, 45, 64, 50, 1, 88, 8, 90, 30, 23, 66, 63, 76, 80, 33, 6, 10, 91, 59, 79, 94, 29, 41, 98, 16, 65, 12, 32, 85, 71, 38, 89, 9, 37, 95, 36, 51, 40, 25, 53, 7, 56, 70, 54, 17, 52, 83, 75, 28, 26, 47, 73, 48, 67, 60, 15, 4, 57]\n",
            "[51, 43, 83, 23, 45, 69, 86, 61, 34, 80, 16, 19, 31, 76, 32, 1, 46, 12, 62, 98, 17, 96, 3, 93, 21, 97, 78, 44, 37, 13, 81, 15, 8, 60, 50, 59, 54, 47, 11, 55, 2, 68, 95, 70, 24, 87, 33, 5, 52, 73, 9, 22, 63, 89, 27, 82, 39, 38, 40, 94, 25, 57, 79, 20, 84, 65, 77, 91, 30, 88, 35, 72, 42, 26, 49, 71, 14, 6, 67, 85, 58, 10, 48, 53, 66, 28, 56, 36, 64, 18, 75, 4, 74, 41, 7, 92, 90, 29]\n",
            "[42, 93, 3, 36, 58, 35, 73, 22, 80, 21, 18, 2, 56, 97, 23, 8, 43, 98, 30, 79, 12, 31, 83, 88, 27, 7, 74, 96, 4, 66, 41, 50, 71, 49, 44, 52, 59, 32, 77, 40, 70, 68, 10, 72, 26, 28, 90, 5, 47, 67, 15, 46, 53, 24, 25, 87, 65, 82, 78, 9, 11, 91, 48, 45, 64, 69, 76, 81, 54, 61, 95, 89, 92, 51, 55, 94, 60, 63, 33, 62, 20, 13, 57, 86, 37, 29, 6, 75, 17, 16, 84, 1, 14, 19, 34, 39, 85, 38]\n",
            "[82, 1, 97, 85, 72, 94, 20, 7, 15, 39, 84, 17, 64, 8, 33, 29, 66, 81, 90, 13, 75, 30, 87, 37, 93, 35, 18, 44, 55, 21, 60, 61, 54, 41, 49, 12, 43, 46, 92, 83, 4, 40, 26, 71, 96, 38, 11, 22, 9, 88, 53, 59, 32, 77, 95, 98, 42, 16, 70, 91, 69, 45, 58, 48, 23, 62, 31, 57, 28, 73, 78, 80, 36, 74, 6, 19, 10, 67, 5, 47, 89, 51, 14, 27, 3, 79, 25, 2, 65, 76, 34, 24, 68, 50, 56, 52, 86, 63]\n",
            "[83, 75, 62, 19, 3, 70, 23, 32, 27, 11, 61, 2, 73, 90, 93, 25, 21, 74, 39, 17, 28, 35, 60, 40, 63, 72, 13, 50, 54, 41, 44, 4, 94, 77, 43, 10, 67, 36, 69, 86, 22, 48, 42, 18, 1, 16, 30, 37, 45, 51, 64, 89, 20, 47, 87, 58, 46, 76, 59, 56, 78, 91, 53, 68, 26, 80, 15, 34, 65, 31, 81, 95, 92, 88, 96, 82, 33, 57, 24, 14, 5, 12, 84, 7, 85, 71, 55, 98, 79, 97, 9, 8, 6, 66, 52, 49, 38, 29]\n",
            "[2, 55, 42, 44, 49, 83, 6, 7, 47, 97, 30, 71, 46, 59, 96, 56, 85, 32, 62, 89, 33, 14, 31, 86, 88, 82, 11, 72, 67, 74, 15, 58, 10, 98, 22, 68, 3, 39, 81, 16, 45, 60, 90, 93, 66, 79, 61, 52, 36, 80, 26, 12, 1, 4, 50, 8, 37, 17, 43, 91, 64, 69, 73, 19, 95, 20, 51, 5, 25, 23, 38, 87, 35, 18, 77, 48, 84, 28, 21, 76, 94, 78, 13, 27, 34, 29, 63, 24, 9, 65, 40, 70, 75, 54, 57, 41, 92, 53]\n"
          ]
        }
      ]
    },
    {
      "cell_type": "markdown",
      "source": [
        "**Task 3.2-3.6: Creating Signature Matrix**"
      ],
      "metadata": {
        "id": "pQG6mZYck9ZJ"
      }
    },
    {
      "cell_type": "code",
      "source": [
        "def createSignatures(h, v, min):          # h for One hot encoding list, v for vocabulary list, and min for min hashes that we created\n",
        "  signature=[]\n",
        "  for arr in min:\n",
        "    for i in range(1, len(v)+1):\n",
        "      compIndex = arr.index(i)\n",
        "      sigValue = h[compIndex]\n",
        "      if sigValue == 1:\n",
        "        signature.append(compIndex)\n",
        "        break\n",
        "  return signature"
      ],
      "metadata": {
        "id": "-fmjEa9Tl46Y"
      },
      "execution_count": null,
      "outputs": []
    },
    {
      "cell_type": "code",
      "source": [
        "aSig = createSignatures(a_1hot,vocab,minhashFuncs)\n",
        "bSig = createSignatures(b_1hot,vocab,minhashFuncs)\n",
        "cSig = createSignatures(c_1hot,vocab,minhashFuncs)\n",
        "\n",
        "print(aSig)\n",
        "print(bSig)\n",
        "print(cSig)"
      ],
      "metadata": {
        "colab": {
          "base_uri": "https://localhost:8080/"
        },
        "id": "s7Wv-EuNoxG4",
        "outputId": "cd973ab2-32a4-4532-93aa-214e2c68b393"
      },
      "execution_count": null,
      "outputs": [
        {
          "output_type": "stream",
          "name": "stdout",
          "text": [
            "[38, 35, 42, 71, 38, 78, 97, 4, 85, 59, 17, 20, 25, 59, 20, 22, 28, 78, 4, 52]\n",
            "[46, 90, 56, 18, 82, 31, 93, 48, 82, 59, 27, 1, 29, 7, 33, 40, 91, 1, 11, 52]\n",
            "[46, 62, 56, 18, 75, 23, 93, 48, 82, 5, 90, 44, 33, 45, 44, 15, 47, 1, 44, 52]\n"
          ]
        }
      ]
    },
    {
      "cell_type": "markdown",
      "source": [
        "**Task 3.7: Finding Jaccard Similarity between different strings**"
      ],
      "metadata": {
        "id": "jbrp3FpEsL0d"
      }
    },
    {
      "cell_type": "code",
      "source": [
        "def JaccSim(a:set ,b:set):\n",
        "  return len(a.intersection(b))/len(a.union(b))\n",
        "\n",
        "print(f\"Jacc. Sim between A and B = {JaccSim(set(shingleA), set(shingleB))},\\t Jacc. Sim between A signature and B signature = {JaccSim(set(aSig) | set(), set(bSig) | set())}\")\n",
        "print(f\"Jacc. Sim between B and  = {JaccSim(set(shingleB), set(shingleC))},\\t Jacc. Sim between B signature and C signature = {JaccSim(set(bSig) | set(), set(cSig) | set())}\")\n",
        "print(f\"Jacc. Sim between A and C = {JaccSim(set(shingleA), set(shingleC))},\\t Jacc. Sim between A signature and C signature = {JaccSim(set(aSig) | set(), set(cSig) | set())}\")\n",
        "\n"
      ],
      "metadata": {
        "colab": {
          "base_uri": "https://localhost:8080/"
        },
        "id": "Q7Gf9AMOsK2v",
        "outputId": "3ce73e2d-e212-4b74-a307-329e534520ee"
      },
      "execution_count": null,
      "outputs": [
        {
          "output_type": "stream",
          "name": "stdout",
          "text": [
            "Jacc. Sim between A and B = 0.1095890410958904,\t Jacc. Sim between A signature and B signature = 0.06451612903225806\n",
            "Jacc. Sim between B and  = 0.40476190476190477,\t Jacc. Sim between B signature and C signature = 0.38461538461538464\n",
            "Jacc. Sim between A and C = 0.14814814814814814,\t Jacc. Sim between A signature and C signature = 0.03125\n"
          ]
        }
      ]
    },
    {
      "cell_type": "markdown",
      "source": [
        "#**Task 4: Applying LSH**\n",
        "\n",
        "**Task 4.1: Splitting into bands**"
      ],
      "metadata": {
        "id": "odmUtXf9vg-e"
      }
    },
    {
      "cell_type": "code",
      "source": [
        "from posixpath import split\n",
        "def split_into_bands(signature, b):     #b stands for how many signatures we need in one band\n",
        "    return [signature[i:i+b] for i in range(0, len(signature), b)]\n",
        "\n",
        "bandA = split_into_bands(aSig, 2)\n",
        "bandB = split_into_bands(bSig, 2)\n",
        "bandC = split_into_bands(cSig, 2)\n",
        "\n",
        "print(bandA)\n",
        "print(bandB)\n",
        "print(bandC)"
      ],
      "metadata": {
        "colab": {
          "base_uri": "https://localhost:8080/"
        },
        "id": "JtjQv5BVxOsi",
        "outputId": "948a576f-274d-4b71-8e85-481d2a6e79bd"
      },
      "execution_count": 60,
      "outputs": [
        {
          "output_type": "stream",
          "name": "stdout",
          "text": [
            "[[38, 35], [42, 71], [38, 78], [97, 4], [85, 59], [17, 20], [25, 59], [20, 22], [28, 78], [4, 52]]\n",
            "[[46, 90], [56, 18], [82, 31], [93, 48], [82, 59], [27, 1], [29, 7], [33, 40], [91, 1], [11, 52]]\n",
            "[[46, 62], [56, 18], [75, 23], [93, 48], [82, 5], [90, 44], [33, 45], [44, 15], [47, 1], [44, 52]]\n"
          ]
        }
      ]
    },
    {
      "cell_type": "markdown",
      "source": [
        "**Task 4.2-4.3: Identifying candidate pairs**"
      ],
      "metadata": {
        "id": "2dBmoWouzkBH"
      }
    },
    {
      "cell_type": "code",
      "source": [
        "def lshSim(a:list, b:list):\n",
        "  for rowA, rowB in zip(a, b):\n",
        "      if rowA == rowB:\n",
        "          print(f\"Candidate pair for : {rowA} == {rowB}\")\n",
        "\n",
        "\n",
        "lshSim(bandA,bandB)\n"
      ],
      "metadata": {
        "id": "aLxhyI3M7uTI"
      },
      "execution_count": 75,
      "outputs": []
    },
    {
      "cell_type": "code",
      "source": [
        "lshSim(bandB,bandC)"
      ],
      "metadata": {
        "colab": {
          "base_uri": "https://localhost:8080/"
        },
        "id": "DpV-a9ckAbeH",
        "outputId": "ddd65b65-caba-43e3-e545-5cd978e3bbb5"
      },
      "execution_count": 76,
      "outputs": [
        {
          "output_type": "stream",
          "name": "stdout",
          "text": [
            "Candidate pair for : [56, 18] == [56, 18]\n",
            "Candidate pair for : [93, 48] == [93, 48]\n"
          ]
        }
      ]
    },
    {
      "cell_type": "code",
      "source": [
        "lshSim(bandA, bandC)"
      ],
      "metadata": {
        "id": "n30VUv9uAn12"
      },
      "execution_count": 77,
      "outputs": []
    },
    {
      "cell_type": "markdown",
      "source": [
        "# **Task 5**"
      ],
      "metadata": {
        "id": "O-vMWHNXCFor"
      }
    },
    {
      "cell_type": "code",
      "source": [
        "# Sample dataset\n",
        "doc1 = \"The quick brown fox jumps over the lazy dog\"\n",
        "doc2 = \"Lorem ipsum dolor sit amet, consectetur adipiscing elit\"\n",
        "doc3 = \"The five boxing wizards jump quickly\"\n",
        "doc4 = \"How vexingly quick daft zebras jump!\"\n",
        "\n",
        "# Task 1: Create Shingles\n",
        "shingle_iter = [2, 3, 4, 6]\n",
        "shingles_doc1 = {}\n",
        "shingles_doc2 = {}\n",
        "shingles_doc3 = {}\n",
        "shingles_doc4 = {}\n",
        "\n",
        "for k in shingle_iter:\n",
        "    shingles_doc1[k] = shingle(doc1, k)\n",
        "    shingles_doc2[k] = shingle(doc2, k)\n",
        "    shingles_doc3[k] = shingle(doc3, k)\n",
        "    shingles_doc4[k] = shingle(doc4, k)\n",
        "\n",
        "# Task 3: Using Minhash to reduce the Sparse Vector and Making Hashes\n",
        "vocab_doc = list(shingles_doc1[2].union(shingles_doc2[2]).union(shingles_doc3[2]).union(shingles_doc4[2]))\n",
        "\n",
        "a_1hot = [1 if x in shingles_doc1[2] else 0 for x in vocab_doc]\n",
        "b_1hot = [1 if x in shingles_doc2[2] else 0 for x in vocab_doc]\n",
        "c_1hot = [1 if x in shingles_doc3[2] else 0 for x in vocab_doc]\n",
        "d_1hot = [1 if x in shingles_doc4[2] else 0 for x in vocab_doc]\n",
        "\n",
        "aSig = createSignatures(a_1hot, vocab_doc, minhashFuncs)\n",
        "bSig = createSignatures(b_1hot, vocab_doc, minhashFuncs)\n",
        "cSig = createSignatures(c_1hot, vocab_doc, minhashFuncs)\n",
        "dSig = createSignatures(d_1hot, vocab_doc, minhashFuncs)\n",
        "\n",
        "# Task 4: Applying LSH\n",
        "bandA = split_into_bands(aSig, 2)\n",
        "bandB = split_into_bands(bSig, 2)\n",
        "bandC = split_into_bands(cSig, 2)\n",
        "bandD = split_into_bands(dSig, 2)\n",
        "\n",
        "# Identifying candidate pairs\n",
        "print(\"Candidate pairs:AB\")\n",
        "lshSim(bandA, bandB)\n",
        "print(\"Candidate pairs BC:\")\n",
        "lshSim(bandB, bandC)\n",
        "print(\"Candidate pairs AC:\")\n",
        "lshSim(bandA, bandC)\n",
        "print(\"Candidate pairs AD:\")\n",
        "lshSim(bandA, bandD)\n",
        "print(\"Candidate pairs BD:\")\n",
        "lshSim(bandB, bandD)\n",
        "print(\"Candidate pairs CD:\")\n",
        "lshSim(bandC, bandD)\n",
        "\n",
        "\n"
      ],
      "metadata": {
        "colab": {
          "base_uri": "https://localhost:8080/"
        },
        "id": "8swwjDbRCMuv",
        "outputId": "96f4fab1-efa3-4c89-9aec-a93322ac6dc7"
      },
      "execution_count": 89,
      "outputs": [
        {
          "output_type": "stream",
          "name": "stdout",
          "text": [
            "Candidate pairs:AB\n",
            "Candidate pairs BC:\n",
            "Candidate pairs AC:\n",
            "Candidate pairs AD:\n",
            "Candidate pairs BD:\n",
            "Candidate pairs CD:\n",
            "Candidate pair for : [93, 82] == [93, 82]\n"
          ]
        }
      ]
    }
  ]
}